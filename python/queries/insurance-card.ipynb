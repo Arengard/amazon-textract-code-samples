{
 "cells": [
  {
   "cell_type": "markdown",
   "metadata": {},
   "source": [
    "## Amazon Textract Queries\n",
    "\n",
    "Amazon Textract Queries provides customers the flexibility to easily specify and extract valuable pieces of information that are important for their business process from a document or collection of documents. Customers who know the critical fields they need to extract from a document, can pass that context to Textract Queries. \n",
    "\n",
    "Providing this context means, Textract can focus on the parts of the document that are most important and take advantage of visual, spatial, and textual cues to extract the data requested. With this additional context, customers no longer need to lookout for an exact match field name, or maintain a list of synonyms across documents. \n",
    "\n",
    "With Textract Queries, customers can extract with high accuracy regardless of the how the data is laid out in a document structure such as forms, tables, and checkboxes, or housed within nested sections within a document.\n",
    " \n",
    "By using Textract Queries, customers do not write additional post-processing code to figure out which key-value or table value corresponds to what they need, or require to train and integrate with custom models to detect the implied fields such as name, and address within the documents or require manual inputs to infer the extracted data. With Textract Queries’s flexibility to specify and extract valuable pieces of information that are important for various stages in a business process, customers can scale up their workflows, drive automation, and efficiencies in the underlying business processes more quickly and easily. "
   ]
  },
  {
   "cell_type": "code",
   "execution_count": 29,
   "metadata": {},
   "outputs": [
    {
     "data": {
      "image/jpeg": "[encoded data removed]",
      "text/plain": [
       "<IPython.core.display.Image object>"
      ]
     },
     "execution_count": 29,
     "metadata": {},
     "output_type": "execute_result"
    }
   ],
   "source": [
    "from IPython.display import Image\n",
    "image_filename = \"insurance-card.jpg\"\n",
    "Image(filename=image_filename)"
   ]
  },
  {
   "cell_type": "markdown",
   "metadata": {},
   "source": [
    "Install the base framework to call Amazon Textract"
   ]
  },
  {
   "cell_type": "code",
   "execution_count": 30,
   "metadata": {},
   "outputs": [
    {
     "name": "stdout",
     "output_type": "stream",
     "text": [
      "/opt/conda/lib/python3.7/site-packages/secretstorage/dhcrypto.py:16: CryptographyDeprecationWarning: int_from_bytes is deprecated, use int.from_bytes instead\n",
      "  from cryptography.utils import int_from_bytes\n",
      "/opt/conda/lib/python3.7/site-packages/secretstorage/util.py:25: CryptographyDeprecationWarning: int_from_bytes is deprecated, use int.from_bytes instead\n",
      "  from cryptography.utils import int_from_bytes\n",
      "Processing ./amazon_textract_response_parser-0.1.21-py2.py3-none-any.whl\n",
      "Requirement already satisfied: boto3 in /opt/conda/lib/python3.7/site-packages (1.20.4)\n",
      "Requirement already satisfied: jmespath<1.0.0,>=0.7.1 in /opt/conda/lib/python3.7/site-packages (from boto3) (0.10.0)\n",
      "Requirement already satisfied: s3transfer<0.6.0,>=0.5.0 in /opt/conda/lib/python3.7/site-packages (from boto3) (0.5.0)\n",
      "Requirement already satisfied: botocore<1.24.0,>=1.23.4 in /opt/conda/lib/python3.7/site-packages (from boto3) (1.23.4)\n",
      "Requirement already satisfied: marshmallow==3.11.1 in /opt/conda/lib/python3.7/site-packages (from amazon-textract-response-parser==0.1.21) (3.11.1)\n",
      "Requirement already satisfied: urllib3<1.27,>=1.25.4 in /opt/conda/lib/python3.7/site-packages (from botocore<1.24.0,>=1.23.4->boto3) (1.26.7)\n",
      "Requirement already satisfied: python-dateutil<3.0.0,>=2.1 in /opt/conda/lib/python3.7/site-packages (from botocore<1.24.0,>=1.23.4->boto3) (2.8.1)\n",
      "Requirement already satisfied: six>=1.5 in /opt/conda/lib/python3.7/site-packages (from python-dateutil<3.0.0,>=2.1->botocore<1.24.0,>=1.23.4->boto3) (1.14.0)\n",
      "amazon-textract-response-parser is already installed with the same version as the provided wheel. Use --force-reinstall to force an installation of the wheel.\n",
      "\u001b[33mWARNING: Running pip as the 'root' user can result in broken permissions and conflicting behaviour with the system package manager. It is recommended to use a virtual environment instead: https://pip.pypa.io/warnings/venv\u001b[0m\n",
      "\u001b[33mWARNING: You are using pip version 21.3.1; however, version 22.0.3 is available.\n",
      "You should consider upgrading via the '/opt/conda/bin/python -m pip install --upgrade pip' command.\u001b[0m\n"
     ]
    }
   ],
   "source": [
    "!python -m pip install boto3 amazon_textract_response_parser-0.1.21-py2.py3-none-any.whl"
   ]
  },
  {
   "cell_type": "code",
   "execution_count": 31,
   "metadata": {},
   "outputs": [],
   "source": [
    "import boto3\n",
    "import json\n",
    "\n",
    "#create a Textract Client\n",
    "textract = boto3.client('textract')\n",
    "# Document\n",
    "documentName = image_filename"
   ]
  },
  {
   "cell_type": "code",
   "execution_count": 32,
   "metadata": {},
   "outputs": [],
   "source": [
    "response = None\n",
    "with open(documentName, 'rb') as document:\n",
    "    imageBytes = bytearray(document.read())\n",
    "\n",
    "    # Call Textract\n",
    "    response = textract.analyze_document(\n",
    "        Document={'Bytes': imageBytes},\n",
    "        # new QUERIES Feature Type for Textract Queries\n",
    "        # We could add additional Feature Types like FORMS and/or TABLES\n",
    "        # FeatureTypes=[\"QUERIES\", \"FORMS\", \"TABLS\"],\n",
    "        FeatureTypes=[\"QUERIES\"],\n",
    "        QueriesConfig={\n",
    "            \"Queries\": [{\n",
    "                \"Text\": \"What is the insured name?\",\n",
    "                \"Alias\": \"INSURANCE_CARD_NAME\"\n",
    "            },\n",
    "            {\n",
    "                \"Text\": \"What is the member id?\",\n",
    "                \"Alias\": \"INSURANCE_CARD_MEMBER_ID\"\n",
    "            },\n",
    "            {\n",
    "                \"Text\": \"What is the effective date?\",\n",
    "                \"Alias\": \"INSURANCE_CARD_EFFECTIVE_DATE\"\n",
    "            },\n",
    "            {\n",
    "                \"Text\": \"What is the office visit copay?\",\n",
    "                \"Alias\": \"INSURANCE_CARD_OFFICE_VISIT_COPAY\"\n",
    "            },\n",
    "            {\n",
    "                \"Text\": \"What is the specialist visit copay?\",\n",
    "                \"Alias\": \"INSURANCE_CARD_SPEC_VISIT_COPAY\"\n",
    "            },\n",
    "            {\n",
    "                \"Text\": \"What is the coinsurance amount?\",\n",
    "                \"Alias\": \"INSURANCE_CARD_COINSURANCE\"\n",
    "            },\n",
    "            {\n",
    "                \"Text\": \"What is the OOP max?\",\n",
    "                \"Alias\": \"INSURANCE_CARD_OOP_MAX\"\n",
    "            },\n",
    "            {\n",
    "                \"Text\": \"What is medical insurance provider?\",\n",
    "                \"Alias\": \"INSURANCE_CARD_PROVIDER\"\n",
    "            },\n",
    "            {\n",
    "                \"Text\": \"What is the plan type?\",\n",
    "                \"Alias\": \"INSURANCE_CARD_PLAN_TYPE\"\n",
    "            },\n",
    "            {\n",
    "                \"Text\": \"What is the level of benefits?\",\n",
    "                \"Alias\": \"INSURANCE_CARD_LEVEL_BENEFITS\"\n",
    "            }\n",
    "            ]\n",
    "        })"
   ]
  },
  {
   "cell_type": "markdown",
   "metadata": {},
   "source": [
    "The response does include all OCR WORDS and LINES, geometry information, confidence scores.\n",
    "\n",
    "For this demo we just print out the information we did query for.\n",
    "\n",
    "If we had added the FORMS and/or TABLES Feature Types, the information of those would be part of the response as well, making it easy to add QUERIES to any existing workflow."
   ]
  },
  {
   "cell_type": "code",
   "execution_count": 33,
   "metadata": {},
   "outputs": [
    {
     "name": "stdout",
     "output_type": "stream",
     "text": [
      "/opt/conda/lib/python3.7/site-packages/secretstorage/dhcrypto.py:16: CryptographyDeprecationWarning: int_from_bytes is deprecated, use int.from_bytes instead\n",
      "  from cryptography.utils import int_from_bytes\n",
      "/opt/conda/lib/python3.7/site-packages/secretstorage/util.py:25: CryptographyDeprecationWarning: int_from_bytes is deprecated, use int.from_bytes instead\n",
      "  from cryptography.utils import int_from_bytes\n",
      "Requirement already satisfied: tabulate in /opt/conda/lib/python3.7/site-packages (0.8.9)\n",
      "\u001b[33mWARNING: Running pip as the 'root' user can result in broken permissions and conflicting behaviour with the system package manager. It is recommended to use a virtual environment instead: https://pip.pypa.io/warnings/venv\u001b[0m\n",
      "\u001b[33mWARNING: You are using pip version 21.3.1; however, version 22.0.3 is available.\n",
      "You should consider upgrading via the '/opt/conda/bin/python -m pip install --upgrade pip' command.\u001b[0m\n"
     ]
    }
   ],
   "source": [
    "# We use tabulate to pretty print the output\n",
    "!python -m pip install tabulate"
   ]
  },
  {
   "cell_type": "code",
   "execution_count": 34,
   "metadata": {},
   "outputs": [
    {
     "name": "stdout",
     "output_type": "stream",
     "text": [
      "|-------------------------------------|-----------------------------------|---------------|\n",
      "| What is the insured name?           | INSURANCE_CARD_NAME               | Jacob Michael |\n",
      "| What is the level of benefits?      | INSURANCE_CARD_LEVEL_BENEFITS     | SILVER        |\n",
      "| What is medical insurance provider? | INSURANCE_CARD_PROVIDER           | Anthem        |\n",
      "| What is the OOP max?                | INSURANCE_CARD_OOP_MAX            | $6000/$12000  |\n",
      "| What is the effective date?         | INSURANCE_CARD_EFFECTIVE_DATE     | 11/02/2021    |\n",
      "| What is the office visit copay?     | INSURANCE_CARD_OFFICE_VISIT_COPAY | $55/0%        |\n",
      "| What is the specialist visit copay? | INSURANCE_CARD_SPEC_VISIT_COPAY   | $65/0%        |\n",
      "| What is the member id?              | INSURANCE_CARD_MEMBER_ID          | XZ 9147589652 |\n",
      "| What is the plan type?              | INSURANCE_CARD_PLAN_TYPE          | Pathway X-EPO |\n",
      "| What is the coinsurance amount?     | INSURANCE_CARD_COINSURANCE        | 30%           |\n"
     ]
    }
   ],
   "source": [
    "import trp.trp2 as t2\n",
    "from tabulate import tabulate\n",
    "\n",
    "d = t2.TDocumentSchema().load(response)\n",
    "page = d.pages[0]\n",
    "\n",
    "query_answers = d.get_query_answers(page=page)\n",
    "\n",
    "print(tabulate(query_answers, tablefmt=\"github\"))"
   ]
  },
  {
   "cell_type": "markdown",
   "metadata": {},
   "source": [
    "## Conclusion"
   ]
  },
  {
   "cell_type": "markdown",
   "metadata": {},
   "source": [
    "Textract Query does not require any training and can be used on any document type, even complex ones with high variance in layout across document type like paystubs or bank statements yield high accuracy.\n",
    "\n",
    "No post processing is required and easy integration with the existing AnalyzeDocument API.\n",
    "\n"
   ]
  }
 ],
 "metadata": {
  "instance_type": "ml.t3.medium",
  "kernelspec": {
   "display_name": "Python 3 (Data Science)",
   "language": "python",
   "name": "python3__SAGEMAKER_INTERNAL__arn:aws:sagemaker:us-east-1:081325390199:image/datascience-1.0"
  },
  "language_info": {
   "codemirror_mode": {
    "name": "ipython",
    "version": 3
   },
   "file_extension": ".py",
   "mimetype": "text/x-python",
   "name": "python",
   "nbconvert_exporter": "python",
   "pygments_lexer": "ipython3",
   "version": "3.7.10"
  }
 },
 "nbformat": 4,
 "nbformat_minor": 5
}
